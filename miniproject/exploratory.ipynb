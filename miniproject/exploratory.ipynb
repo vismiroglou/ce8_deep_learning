{
 "cells": [
  {
   "cell_type": "code",
   "execution_count": 1,
   "metadata": {},
   "outputs": [],
   "source": [
    "import os\n",
    "import random\n",
    "import json\n",
    "import pandas as pd"
   ]
  },
  {
   "cell_type": "code",
   "execution_count": 2,
   "metadata": {},
   "outputs": [],
   "source": [
    "#Load all the annotation file paths into a list\n",
    "data_root = 'data'\n",
    "anno_files = [os.path.join(data_root, anno) for anno in os.listdir(data_root) if '.json' in anno]"
   ]
  },
  {
   "cell_type": "code",
   "execution_count": 3,
   "metadata": {},
   "outputs": [],
   "source": [
    "#Create a dataframe of all the annotations\n",
    "metadata = pd.DataFrame()\n",
    "for i, anno in enumerate(anno_files):\n",
    "    with open(anno) as f:\n",
    "        data = json.load(f)\n",
    "        data['filename'] = os.path.basename(anno).replace('.json', '')\n",
    "    data = pd.DataFrame(data=data, index=[i])\n",
    "    metadata = pd.concat((metadata, data), ignore_index=True)"
   ]
  },
  {
   "cell_type": "code",
   "execution_count": 34,
   "metadata": {},
   "outputs": [],
   "source": [
    "# Save to csv\n",
    "metadata.to_csv('metadata.csv', index=False)"
   ]
  }
 ],
 "metadata": {
  "kernelspec": {
   "display_name": "deep_learning",
   "language": "python",
   "name": "python3"
  },
  "language_info": {
   "codemirror_mode": {
    "name": "ipython",
    "version": 3
   },
   "file_extension": ".py",
   "mimetype": "text/x-python",
   "name": "python",
   "nbconvert_exporter": "python",
   "pygments_lexer": "ipython3",
   "version": "3.11.5"
  }
 },
 "nbformat": 4,
 "nbformat_minor": 2
}
